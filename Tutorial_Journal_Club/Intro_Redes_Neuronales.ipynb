{
 "cells": [
  {
   "cell_type": "markdown",
   "metadata": {},
   "source": [
    "# Introducción a las redes neuronales con ejemplos numéricos\n",
    "\n",
    "------------------------------------\n",
    "\n",
    "#### Diagrama general del aprendizajo supervisado en ML\n",
    "\n",
    "![title](https://raw.githubusercontent.com/igomezv/neural_nets_utilities/master/Tutorial_Journal_Club/figures/aprendizajesupervizado.png)\n",
    "\n",
    "#### ¿Qué es una red neuronal?\n",
    "\n",
    "Según Wiki: es un modelo computacional vagamente inspirado en el comportamiento observado en su homólogo biológico.\n",
    "\n",
    " -Numeros inicialmente aleatorios $\\in (-1,1)$ asociados a cada conexión (llamados pesos) hacen alusión a la sinapsis.\n",
    " \n",
    " -Cada nodo de la RNA también es llamada neurona.\n",
    " \n",
    " -Hay una función de activación que determina si las señales activan o no cierta respuesta.\n",
    " \n",
    " -Las RNA procesan señales en paralelo.\n",
    "\n",
    "#### Propagación hacia adelante:\n",
    "\n",
    "- Genera pesos y bias aleatorios.\n",
    "- Las entradas de la capa anterior se multiplican por los pesos por medio de una suma ponderada.\n",
    "- Al resultado de la suma ponderada se le aplica una función de activación.\n",
    "- La red neuronal arroja una predicción.\n",
    "\n",
    "![title](https://raw.githubusercontent.com/igomezv/neural_nets_utilities/master/Tutorial_Journal_Club/figures/ANN_.png)\n",
    "\n",
    "#### Tipos de funciones de activación:\n",
    "Fuente: https://mlfromscratch.com/activation-functions-explained/#/\n",
    "![title](https://mlfromscratch.com/content/images/2019/12/activation-functions.gif)\n",
    "\n",
    "Tómese en cuenta lo siguiente.\n",
    "\n",
    "- Los bias y pesos son inicialmente aleatorios, pero de alguna manera se deben ajustar mediante iteraciones.\n",
    "- Cada conexión tiene un peso.\n",
    "- Cada neurona tiene un bias. \n",
    "\n",
    "#### ¿Qué hace falta?\n",
    "- Se requiere una métrica que mida qué tan cerca o lejos del valor esperado son las predicciones de la red (función de costo o de pérdida).\n",
    "- Es necesario un algoritmo que minimize la función anterior.\n",
    "- Si no se emplea una función de activación no lineal, la suma ponderada y toda la estructura de la red solamente proveerán transformaciones lineales."
   ]
  },
  {
   "cell_type": "markdown",
   "metadata": {},
   "source": [
    "### Para explicar cada parte, usaremos la implementación de Michael Nielsen en su libro Neural Networks and Deep Learning:\n",
    "\n",
    "- Libro de acceso abierto: http://neuralnetworksanddeeplearning.com\n",
    "- La presente versión ha sido modificada para fines didácticos:\n",
    "    - Traducida al español.\n",
    "    - Adaptada para regresión.\n",
    "    - Adaptada a Python 3.\n",
    "\n",
    "Consíderese lo siguiente:\n",
    "\n",
    "\n",
    "- Función de costo: \n",
    "$C(w, b) ≡ \\frac{1}{2} \\Sigma_x || y(x) − a(x,w,b)||^2$, donde a es la predicción de la RNA.\n",
    "- Métodos analíticos de minimización no son útiles para muchas variables.\n",
    "- Se requiere un algoritmo para minimizar la función de costo: descenso del gradiente.\n",
    "- El descenso del gradiente únicamente calcula gradientes, es el más simple de toda una familia de algoritmos de minimización.\n",
    "\n",
    "#### Descenso del gradiente (intuición)\n",
    "\n",
    "- La deducción no es propósito de esta notebook, pero cada nuevo paso en busca de la minimización de la función de costo, obedece la siguiente regla:\n",
    "\n",
    "$ v -> v' = v - \\eta \\nabla C$, donde $v$ es $f(w, b)$\n",
    "\n",
    "- Se da un paso en dirección opuesta al gradiente hasta minimizar la función de costo.\n",
    "\n",
    "Fuente: https://kevinbinz.com/2019/05/26/intro-gradient-descent/\n",
    "\n",
    "![title](https://kevinbinz.files.wordpress.com/2019/05/dualspace_explore.gif)\n",
    "\n",
    "- Se quiere encontrar (x,y) tal que sea un mínimo en la superficie (función de costo).\n",
    "\n",
    "Fuente: https://towardsdatascience.com/a-visual-explanation-of-gradient-descent-methods-momentum-adagrad-rmsprop-adam-f898b102325c\n",
    "\n",
    "![title](https://miro.medium.com/max/819/1*hUd744hDEEGx0-ypWGhrkw.gif)"
   ]
  },
  {
   "cell_type": "code",
   "execution_count": 1,
   "metadata": {},
   "outputs": [
    {
     "name": "stderr",
     "output_type": "stream",
     "text": [
      "/home/isidro/anaconda3/lib/python3.7/site-packages/tensorflow/python/framework/dtypes.py:516: FutureWarning: Passing (type, 1) or '1type' as a synonym of type is deprecated; in a future version of numpy, it will be understood as (type, (1,)) / '(1,)type'.\n",
      "  _np_qint8 = np.dtype([(\"qint8\", np.int8, 1)])\n",
      "/home/isidro/anaconda3/lib/python3.7/site-packages/tensorflow/python/framework/dtypes.py:517: FutureWarning: Passing (type, 1) or '1type' as a synonym of type is deprecated; in a future version of numpy, it will be understood as (type, (1,)) / '(1,)type'.\n",
      "  _np_quint8 = np.dtype([(\"quint8\", np.uint8, 1)])\n",
      "/home/isidro/anaconda3/lib/python3.7/site-packages/tensorflow/python/framework/dtypes.py:518: FutureWarning: Passing (type, 1) or '1type' as a synonym of type is deprecated; in a future version of numpy, it will be understood as (type, (1,)) / '(1,)type'.\n",
      "  _np_qint16 = np.dtype([(\"qint16\", np.int16, 1)])\n",
      "/home/isidro/anaconda3/lib/python3.7/site-packages/tensorflow/python/framework/dtypes.py:519: FutureWarning: Passing (type, 1) or '1type' as a synonym of type is deprecated; in a future version of numpy, it will be understood as (type, (1,)) / '(1,)type'.\n",
      "  _np_quint16 = np.dtype([(\"quint16\", np.uint16, 1)])\n",
      "/home/isidro/anaconda3/lib/python3.7/site-packages/tensorflow/python/framework/dtypes.py:520: FutureWarning: Passing (type, 1) or '1type' as a synonym of type is deprecated; in a future version of numpy, it will be understood as (type, (1,)) / '(1,)type'.\n",
      "  _np_qint32 = np.dtype([(\"qint32\", np.int32, 1)])\n",
      "/home/isidro/anaconda3/lib/python3.7/site-packages/tensorflow/python/framework/dtypes.py:525: FutureWarning: Passing (type, 1) or '1type' as a synonym of type is deprecated; in a future version of numpy, it will be understood as (type, (1,)) / '(1,)type'.\n",
      "  np_resource = np.dtype([(\"resource\", np.ubyte, 1)])\n",
      "/home/isidro/anaconda3/lib/python3.7/site-packages/tensorboard/compat/tensorflow_stub/dtypes.py:541: FutureWarning: Passing (type, 1) or '1type' as a synonym of type is deprecated; in a future version of numpy, it will be understood as (type, (1,)) / '(1,)type'.\n",
      "  _np_qint8 = np.dtype([(\"qint8\", np.int8, 1)])\n",
      "/home/isidro/anaconda3/lib/python3.7/site-packages/tensorboard/compat/tensorflow_stub/dtypes.py:542: FutureWarning: Passing (type, 1) or '1type' as a synonym of type is deprecated; in a future version of numpy, it will be understood as (type, (1,)) / '(1,)type'.\n",
      "  _np_quint8 = np.dtype([(\"quint8\", np.uint8, 1)])\n",
      "/home/isidro/anaconda3/lib/python3.7/site-packages/tensorboard/compat/tensorflow_stub/dtypes.py:543: FutureWarning: Passing (type, 1) or '1type' as a synonym of type is deprecated; in a future version of numpy, it will be understood as (type, (1,)) / '(1,)type'.\n",
      "  _np_qint16 = np.dtype([(\"qint16\", np.int16, 1)])\n",
      "/home/isidro/anaconda3/lib/python3.7/site-packages/tensorboard/compat/tensorflow_stub/dtypes.py:544: FutureWarning: Passing (type, 1) or '1type' as a synonym of type is deprecated; in a future version of numpy, it will be understood as (type, (1,)) / '(1,)type'.\n",
      "  _np_quint16 = np.dtype([(\"quint16\", np.uint16, 1)])\n",
      "/home/isidro/anaconda3/lib/python3.7/site-packages/tensorboard/compat/tensorflow_stub/dtypes.py:545: FutureWarning: Passing (type, 1) or '1type' as a synonym of type is deprecated; in a future version of numpy, it will be understood as (type, (1,)) / '(1,)type'.\n",
      "  _np_qint32 = np.dtype([(\"qint32\", np.int32, 1)])\n",
      "/home/isidro/anaconda3/lib/python3.7/site-packages/tensorboard/compat/tensorflow_stub/dtypes.py:550: FutureWarning: Passing (type, 1) or '1type' as a synonym of type is deprecated; in a future version of numpy, it will be understood as (type, (1,)) / '(1,)type'.\n",
      "  np_resource = np.dtype([(\"resource\", np.ubyte, 1)])\n"
     ]
    }
   ],
   "source": [
    "import tensorflow.keras as K\n",
    "import numpy as np\n",
    "import matplotlib.pyplot as plt\n",
    "from sklearn.preprocessing import StandardScaler\n",
    "import pandas as pd"
   ]
  },
  {
   "cell_type": "code",
   "execution_count": 2,
   "metadata": {},
   "outputs": [],
   "source": [
    "class neural_net:\n",
    "    def __init__(self, X, Y, topology, epochs=50, lr=0.0001, bs=4, early_tol=100, scale=False):\n",
    "        self.topology = topology\n",
    "        self.epochs = epochs\n",
    "        self.lr = lr\n",
    "        self.bs = bs\n",
    "        self.early_tol = early_tol\n",
    "        self.scale = scale\n",
    "    \n",
    "        ntrain = int(0.8* len(X))\n",
    "        indx = [ntrain]\n",
    "        self.X_train, self.X_test = np.split(X, indx)\n",
    "        self.Y_train, self.Y_test = np.split(Y, indx)\n",
    "        \n",
    "        if self.scale:\n",
    "            self.scaler = StandardScaler()\n",
    "            try:\n",
    "                self.scaler.fit(X)\n",
    "                self.X_train = self.scaler.transform(self.X_train)\n",
    "                self.X_test = self.scaler.transform(self.X_test)\n",
    "            except:\n",
    "                self.scaler.fit(X.reshape(-1,1))\n",
    "                self.X_train = self.scaler.transform(self.X_train.reshape(-1,1))\n",
    "                self.X_test = self.scaler.transform(self.X_test.reshape(-1,1))\n",
    "\n",
    "            self.X_train = self.scaler.transform(self.X_train)\n",
    "            self.X_test = self.scaler.transform(self.X_test)\n",
    "        \n",
    "        self.model = self.model()\n",
    "        self.model.summary()\n",
    "        \n",
    "    def model(self):\n",
    "        # Red neuronal\n",
    "        model = K.models.Sequential()\n",
    "        # Hidden layers\n",
    "\n",
    "        for i, nodes in enumerate(self.topology):\n",
    "            if i == 0:\n",
    "                model.add(K.layers.Dense(self.topology[1], input_dim=self.topology[0], activation='relu'))\n",
    "            elif i < len(self.topology)-2:\n",
    "                model.add(K.layers.Dense(self.topology[i+1], activation='relu'))\n",
    "            else:\n",
    "                model.add(K.layers.Dense(self.topology[i], activation='relu'))\n",
    "        optimizer = K.optimizers.Adam(learning_rate=0.0001)\n",
    "        model.compile(optimizer=optimizer, loss='mean_squared_error')\n",
    "        \n",
    "        return model                    \n",
    "    \n",
    "    def train(self):\n",
    "        callbacks = [K.callbacks.EarlyStopping(monitor='val_loss', mode='min',\n",
    "                                               min_delta=0.0,\n",
    "                                               patience=self.early_tol,\n",
    "                                               restore_best_weights=True)]\n",
    "        print(\"Entrenando, por favor, espera...\")\n",
    "        self.history = self.model.fit(self.X_train,\n",
    "                                      self.Y_train,\n",
    "                                      validation_data=(self.X_test,\n",
    "                                                       self.Y_test),\n",
    "                                      epochs=self.epochs, batch_size=self.bs,\n",
    "                                      callbacks=callbacks, verbose=0)\n",
    "        print(\"¡Entrenamiento terminado!\")\n",
    "        return self.history\n",
    "    \n",
    "    def get_w_and_b(self, nlayer):\n",
    "        weights, biases = self.model.layers[nlayer].get_weights()\n",
    "        return weights, biases\n",
    "    \n",
    "    def predict(self, x):\n",
    "        if type(x) == type([1]):\n",
    "            x = np.array(x)\n",
    "        if type(x) == type(1):\n",
    "            x = np.array([x])\n",
    "        if self.scale:\n",
    "            try:\n",
    "                x = self.scaler.transform(x)\n",
    "            except:\n",
    "                x = self.scaler.transform(x.reshape(-1,1))\n",
    "        return self.model.predict(x)\n",
    "        \n",
    "    def plot(self):\n",
    "        plt.plot(self.history.history['loss'], label='training set')\n",
    "        plt.plot(self.history.history['val_loss'], label='validation set')\n",
    "        mse = np.min(self.history.history['val_loss'])\n",
    "        plt.title('MSE: {} Uncertainty: {}'.format(mse, np.sqrt(mse)))\n",
    "        plt.ylabel('loss function')\n",
    "        plt.xlabel('epoch')\n",
    "        plt.legend(['train', 'val'], loc='upper left')\n",
    "        plt.show()\n",
    "        "
   ]
  },
  {
   "cell_type": "markdown",
   "metadata": {},
   "source": [
    "### CASO 1: Analicemos si una red neuronal puede aprender las siguientes tres funciones:\n",
    "\n",
    "* $line(x) = 2x+3$\n",
    "* $quadratic(x) = x^2 +2$\n",
    "* $quadtres(x_1,x_2,x_3) = x_1^2 + 2x_2 + x_3$"
   ]
  },
  {
   "cell_type": "code",
   "execution_count": 3,
   "metadata": {},
   "outputs": [],
   "source": [
    "def line(x):\n",
    "    return 2*x + 3 + 0.05 * np.random.rand()\n",
    "\n",
    "def quadratic(x):\n",
    "    return x**2 + 2 + 0.001 * np.random.rand()\n",
    "\n",
    "def quadtres(x):\n",
    "    y = np.zeros(len(x))\n",
    "    for i in range(len(x)):\n",
    "        y[i] = x[i, 0]**2 + 2*x[i, 1] + x[i, 2]\n",
    "    return y"
   ]
  },
  {
   "cell_type": "code",
   "execution_count": 4,
   "metadata": {},
   "outputs": [
    {
     "data": {
      "text/html": [
       "<div>\n",
       "<style scoped>\n",
       "    .dataframe tbody tr th:only-of-type {\n",
       "        vertical-align: middle;\n",
       "    }\n",
       "\n",
       "    .dataframe tbody tr th {\n",
       "        vertical-align: top;\n",
       "    }\n",
       "\n",
       "    .dataframe thead th {\n",
       "        text-align: right;\n",
       "    }\n",
       "</style>\n",
       "<table border=\"1\" class=\"dataframe\">\n",
       "  <thead>\n",
       "    <tr style=\"text-align: right;\">\n",
       "      <th></th>\n",
       "      <th>x</th>\n",
       "      <th>y</th>\n",
       "    </tr>\n",
       "  </thead>\n",
       "  <tbody>\n",
       "    <tr>\n",
       "      <th>0</th>\n",
       "      <td>0.690611</td>\n",
       "      <td>0.477934</td>\n",
       "    </tr>\n",
       "    <tr>\n",
       "      <th>1</th>\n",
       "      <td>0.388933</td>\n",
       "      <td>0.152260</td>\n",
       "    </tr>\n",
       "    <tr>\n",
       "      <th>2</th>\n",
       "      <td>0.692010</td>\n",
       "      <td>0.479869</td>\n",
       "    </tr>\n",
       "    <tr>\n",
       "      <th>3</th>\n",
       "      <td>0.844968</td>\n",
       "      <td>0.714962</td>\n",
       "    </tr>\n",
       "    <tr>\n",
       "      <th>4</th>\n",
       "      <td>0.939549</td>\n",
       "      <td>0.883743</td>\n",
       "    </tr>\n",
       "    <tr>\n",
       "      <th>5</th>\n",
       "      <td>0.604592</td>\n",
       "      <td>0.366523</td>\n",
       "    </tr>\n",
       "    <tr>\n",
       "      <th>6</th>\n",
       "      <td>0.800057</td>\n",
       "      <td>0.641082</td>\n",
       "    </tr>\n",
       "    <tr>\n",
       "      <th>7</th>\n",
       "      <td>0.482023</td>\n",
       "      <td>0.233337</td>\n",
       "    </tr>\n",
       "    <tr>\n",
       "      <th>8</th>\n",
       "      <td>0.607142</td>\n",
       "      <td>0.369613</td>\n",
       "    </tr>\n",
       "    <tr>\n",
       "      <th>9</th>\n",
       "      <td>0.997328</td>\n",
       "      <td>0.995654</td>\n",
       "    </tr>\n",
       "  </tbody>\n",
       "</table>\n",
       "</div>"
      ],
      "text/plain": [
       "          x         y\n",
       "0  0.690611  0.477934\n",
       "1  0.388933  0.152260\n",
       "2  0.692010  0.479869\n",
       "3  0.844968  0.714962\n",
       "4  0.939549  0.883743\n",
       "5  0.604592  0.366523\n",
       "6  0.800057  0.641082\n",
       "7  0.482023  0.233337\n",
       "8  0.607142  0.369613\n",
       "9  0.997328  0.995654"
      ]
     },
     "execution_count": 4,
     "metadata": {},
     "output_type": "execute_result"
    }
   ],
   "source": [
    "# Descomentar función para generar datos\n",
    "# fn = line\n",
    "fn = quadratic\n",
    "# fn = quadtres\n",
    "\n",
    "# Seleccionar número de puntos para el dataset\n",
    "npoints = 100\n",
    "\n",
    "# Generar X\n",
    "## para line y quadratic\n",
    "X = np.random.rand(npoints)\n",
    "## para quadtres\n",
    "# X = np.random.rand(npoints, 3)\n",
    "\n",
    "# Generar Y\n",
    "Y = fn(X)\n",
    "\n",
    "# Ver tabla de datos\n",
    "## para line y quadratic\n",
    "data =pd.DataFrame(zip(X,Y), columns=['x', 'y'])\n",
    "## para quadtres\n",
    "# data =pd.DataFrame(zip(X[:,0], X[:,1], X[:,2], Y), columns=['$x_1$', '$x_2$', '$x_3$', 'y'])\n",
    "data.head(10)"
   ]
  },
  {
   "cell_type": "code",
   "execution_count": 5,
   "metadata": {},
   "outputs": [
    {
     "name": "stdout",
     "output_type": "stream",
     "text": [
      "WARNING:tensorflow:From /home/isidro/anaconda3/lib/python3.7/site-packages/tensorflow/python/ops/init_ops.py:1251: calling VarianceScaling.__init__ (from tensorflow.python.ops.init_ops) with dtype is deprecated and will be removed in a future version.\n",
      "Instructions for updating:\n",
      "Call initializer instance with the dtype argument instead of passing it to the constructor\n",
      "Model: \"sequential\"\n",
      "_________________________________________________________________\n",
      "Layer (type)                 Output Shape              Param #   \n",
      "=================================================================\n",
      "dense (Dense)                (None, 100)               200       \n",
      "_________________________________________________________________\n",
      "dense_1 (Dense)              (None, 100)               10100     \n",
      "_________________________________________________________________\n",
      "dense_2 (Dense)              (None, 1)                 101       \n",
      "=================================================================\n",
      "Total params: 10,401\n",
      "Trainable params: 10,401\n",
      "Non-trainable params: 0\n",
      "_________________________________________________________________\n"
     ]
    }
   ],
   "source": [
    "network = neural_net(X, Y, [1,100,1], epochs=100, bs=16, lr=0.01, scale=True)"
   ]
  },
  {
   "cell_type": "code",
   "execution_count": 6,
   "metadata": {},
   "outputs": [
    {
     "name": "stdout",
     "output_type": "stream",
     "text": [
      "Entrenando, por favor, espera...\n",
      "¡Entrenamiento terminado!\n"
     ]
    },
    {
     "data": {
      "text/plain": [
       "<tensorflow.python.keras.callbacks.History at 0x7fe8d31df6d8>"
      ]
     },
     "execution_count": 6,
     "metadata": {},
     "output_type": "execute_result"
    }
   ],
   "source": [
    "network.train()"
   ]
  },
  {
   "cell_type": "code",
   "execution_count": 7,
   "metadata": {},
   "outputs": [
    {
     "name": "stdout",
     "output_type": "stream",
     "text": [
      "1 100\n",
      "[[ 0.09772065 -0.0280372  -0.18533267  0.16927557  0.09565057  0.1517739\n",
      "  -0.19979484  0.16403805 -0.10642112  0.14263816 -0.08693132 -0.03227205\n",
      "  -0.21524195  0.13857958 -0.21694283  0.21257149 -0.15632048  0.06629022\n",
      "  -0.08176262 -0.14292893  0.24060781  0.12015954  0.03569694  0.13221182\n",
      "  -0.01240145 -0.2210431   0.03891002  0.17196397  0.09450796  0.00462745\n",
      "   0.09786277 -0.00986721  0.18633386  0.09461764  0.21013026  0.23443055\n",
      "   0.18835574 -0.104336   -0.19821055  0.02541066 -0.11152012  0.08104762\n",
      "  -0.18482475 -0.15930487 -0.10997772 -0.050305   -0.14136325 -0.18365806\n",
      "  -0.15839675 -0.18501005  0.17285898  0.23247255 -0.10069915 -0.01194788\n",
      "  -0.00520809 -0.02396286 -0.02275304 -0.18412638 -0.2112079  -0.14559415\n",
      "  -0.024582   -0.17193082 -0.03689864 -0.05511582 -0.17128852 -0.1818731\n",
      "   0.2398211  -0.2155473  -0.14610533  0.02672989 -0.15713799 -0.24133639\n",
      "   0.06073857 -0.09534061 -0.17471406 -0.12292019 -0.24251616 -0.02045798\n",
      "   0.24041316  0.18223809  0.06469533  0.19162172  0.1420758   0.13015237\n",
      "   0.22368494 -0.07352104  0.08146314 -0.09897415 -0.07983091  0.09570681\n",
      "  -0.20950791  0.20217127  0.15220356  0.03163513 -0.23701443  0.00110451\n",
      "   0.05809962  0.24267703  0.1525719   0.21617495]]\n"
     ]
    }
   ],
   "source": [
    "w, b = network.get_w_and_b(nlayer=0)\n",
    "print(len(w), len(b))\n",
    "print(w)"
   ]
  },
  {
   "cell_type": "code",
   "execution_count": 8,
   "metadata": {},
   "outputs": [
    {
     "data": {
      "image/png": "[encoded data removed]",
      "text/plain": [
       "<Figure size 432x288 with 1 Axes>"
      ]
     },
     "metadata": {
      "needs_background": "light"
     },
     "output_type": "display_data"
    }
   ],
   "source": [
    "network.plot()"
   ]
  },
  {
   "cell_type": "code",
   "execution_count": 9,
   "metadata": {},
   "outputs": [
    {
     "name": "stdout",
     "output_type": "stream",
     "text": [
      "Valor real: 0.49029552571051266\n",
      "Predicción: 0.4558666944503784\n"
     ]
    }
   ],
   "source": [
    "# new_vector = np.array([0.7, 0.5, 0.6]).reshape(1,3)\n",
    "new_vector = np.array([0.7])\n",
    "prediction = network.predict(new_vector)\n",
    "\n",
    "\n",
    "print(\"Valor real: {}\".format(float(fn(new_vector))))\n",
    "print(\"Predicción: {}\".format(float(prediction)))"
   ]
  },
  {
   "cell_type": "code",
   "execution_count": 10,
   "metadata": {},
   "outputs": [],
   "source": [
    "from time import time\n",
    "from scipy import integrate"
   ]
  },
  {
   "cell_type": "markdown",
   "metadata": {},
   "source": [
    "## Caso 2: Experimento con alguna integral arbitraria\n",
    "\n",
    "$f(x,y) = \\sqrt{x^2 + y^2} + \\frac{xy}{2}$\n",
    "\n",
    "#### Analicemos si una red neuronal puede aprender a calcular esta integral y ahorrar tiempo cuando se requiere evaluar múltiples veces."
   ]
  },
  {
   "cell_type": "code",
   "execution_count": 11,
   "metadata": {},
   "outputs": [
    {
     "name": "stdout",
     "output_type": "stream",
     "text": [
      "0.8901957164640362\n",
      "Tiempo: 0.0085 segundos\n"
     ]
    }
   ],
   "source": [
    "# f = lambda y, x: x*y**2\n",
    "def f(x, y):\n",
    "    return np.sqrt(x**2 + y**2) + 0.5*x*y \n",
    "\n",
    "t1 = time()\n",
    "i = integrate.dblquad(f, 0, 1, lambda x: 0, lambda x: 1)\n",
    "print(i[0])\n",
    "print(\"Tiempo: {:.4f} segundos\".format(time()-t1))"
   ]
  },
  {
   "cell_type": "code",
   "execution_count": 12,
   "metadata": {},
   "outputs": [
    {
     "ename": "SyntaxError",
     "evalue": "invalid syntax (<ipython-input-12-fbb21de40150>, line 6)",
     "output_type": "error",
     "traceback": [
      "\u001b[0;36m  File \u001b[0;32m\"<ipython-input-12-fbb21de40150>\"\u001b[0;36m, line \u001b[0;32m6\u001b[0m\n\u001b[0;31m    points[i, 0] =\u001b[0m\n\u001b[0m                   ^\u001b[0m\n\u001b[0;31mSyntaxError\u001b[0m\u001b[0;31m:\u001b[0m invalid syntax\n"
     ]
    }
   ],
   "source": [
    "npoints = 1000\n",
    "points = np.zeros((npoints, 2))\n",
    "print(np.shape(points))\n",
    "t1 = time()\n",
    "for i in range(npoints):\n",
    "    points[i, 0] = "
   ]
  },
  {
   "cell_type": "markdown",
   "metadata": {},
   "source": [
    "##### Está mecanismo se puede utilizar para aprender la función de likelihood, la cual se evalúa miles de veces, dentro de un proceso de inferencia Bayesiana."
   ]
  },
  {
   "cell_type": "markdown",
   "metadata": {},
   "source": [
    "### Caso 3: Modelemos unos datos cosmológicos"
   ]
  }
 ],
 "metadata": {
  "kernelspec": {
   "display_name": "Python 3",
   "language": "python",
   "name": "python3"
  },
  "language_info": {
   "codemirror_mode": {
    "name": "ipython",
    "version": 3
   },
   "file_extension": ".py",
   "mimetype": "text/x-python",
   "name": "python",
   "nbconvert_exporter": "python",
   "pygments_lexer": "ipython3",
   "version": "3.7.3"
  }
 },
 "nbformat": 4,
 "nbformat_minor": 2
}
